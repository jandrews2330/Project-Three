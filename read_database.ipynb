{
 "cells": [
  {
   "cell_type": "code",
   "execution_count": 1,
   "metadata": {},
   "outputs": [
    {
     "data": {
      "text/html": [
       "<div>\n",
       "<style scoped>\n",
       "    .dataframe tbody tr th:only-of-type {\n",
       "        vertical-align: middle;\n",
       "    }\n",
       "\n",
       "    .dataframe tbody tr th {\n",
       "        vertical-align: top;\n",
       "    }\n",
       "\n",
       "    .dataframe thead th {\n",
       "        text-align: right;\n",
       "    }\n",
       "</style>\n",
       "<table border=\"1\" class=\"dataframe\">\n",
       "  <thead>\n",
       "    <tr style=\"text-align: right;\">\n",
       "      <th></th>\n",
       "      <th>house_id</th>\n",
       "      <th>founder</th>\n",
       "      <th>mascot</th>\n",
       "      <th>colors</th>\n",
       "      <th>common_room</th>\n",
       "    </tr>\n",
       "  </thead>\n",
       "  <tbody>\n",
       "    <tr>\n",
       "      <th>0</th>\n",
       "      <td>Gryffindor</td>\n",
       "      <td>Godric Gryffindor</td>\n",
       "      <td>lion</td>\n",
       "      <td>Scarlet and gold</td>\n",
       "      <td>Gryffindor Tower</td>\n",
       "    </tr>\n",
       "    <tr>\n",
       "      <th>1</th>\n",
       "      <td>Hufflepuff</td>\n",
       "      <td>Helga Hufflepuff</td>\n",
       "      <td>badger</td>\n",
       "      <td>Yellow and black</td>\n",
       "      <td>Hufflepuff Basement</td>\n",
       "    </tr>\n",
       "    <tr>\n",
       "      <th>2</th>\n",
       "      <td>Ravenclaw</td>\n",
       "      <td>Rowena Ravenclaw</td>\n",
       "      <td>eagle</td>\n",
       "      <td>Blue and bronze</td>\n",
       "      <td>Ravenclaw Tower</td>\n",
       "    </tr>\n",
       "    <tr>\n",
       "      <th>3</th>\n",
       "      <td>Slytherin</td>\n",
       "      <td>Salazar Slytherin</td>\n",
       "      <td>snake</td>\n",
       "      <td>Green and silver</td>\n",
       "      <td>Slytherin Dungeon</td>\n",
       "    </tr>\n",
       "  </tbody>\n",
       "</table>\n",
       "</div>"
      ],
      "text/plain": [
       "     house_id            founder  mascot            colors  \\\n",
       "0  Gryffindor  Godric Gryffindor    lion  Scarlet and gold   \n",
       "1  Hufflepuff   Helga Hufflepuff  badger  Yellow and black   \n",
       "2   Ravenclaw   Rowena Ravenclaw   eagle   Blue and bronze   \n",
       "3   Slytherin  Salazar Slytherin   snake  Green and silver   \n",
       "\n",
       "           common_room  \n",
       "0     Gryffindor Tower  \n",
       "1  Hufflepuff Basement  \n",
       "2      Ravenclaw Tower  \n",
       "3    Slytherin Dungeon  "
      ]
     },
     "execution_count": 1,
     "metadata": {},
     "output_type": "execute_result"
    }
   ],
   "source": [
    "import pandas as pd\n",
    "from sqlalchemy import create_engine\n",
    "# !pip install psycopg2\n",
    "# !pip install plotly\n",
    "\n",
    "# Connection string (replace with your actual credentials)\n",
    "username = 'postgres'\n",
    "password = 'postgres'\n",
    "host = 'localhost'\n",
    "port = '5432'\n",
    "database = 'hp_db'\n",
    "\n",
    "# Create connection string and engine\n",
    "connection_string = f'postgresql://{username}:{password}@{host}:{port}/{database}'\n",
    "engine = create_engine(connection_string)\n",
    "\n",
    "# Define your SQL query\n",
    "sql_query = 'SELECT * FROM house'  # Replace with your query\n",
    "\n",
    "# Use Pandas to execute the SQL query and return the result as a DataFrame\n",
    "house_df = pd.read_sql(sql_query, engine)\n",
    "\n",
    "# Display the DataFrame\n",
    "house_df"
   ]
  },
  {
   "cell_type": "code",
   "execution_count": 2,
   "metadata": {},
   "outputs": [
    {
     "data": {
      "text/html": [
       "<div>\n",
       "<style scoped>\n",
       "    .dataframe tbody tr th:only-of-type {\n",
       "        vertical-align: middle;\n",
       "    }\n",
       "\n",
       "    .dataframe tbody tr th {\n",
       "        vertical-align: top;\n",
       "    }\n",
       "\n",
       "    .dataframe thead th {\n",
       "        text-align: right;\n",
       "    }\n",
       "</style>\n",
       "<table border=\"1\" class=\"dataframe\">\n",
       "  <thead>\n",
       "    <tr style=\"text-align: right;\">\n",
       "      <th></th>\n",
       "      <th>id</th>\n",
       "      <th>name</th>\n",
       "      <th>gender</th>\n",
       "      <th>house</th>\n",
       "      <th>wand</th>\n",
       "      <th>patronus</th>\n",
       "      <th>blood_status</th>\n",
       "      <th>birthdate</th>\n",
       "    </tr>\n",
       "  </thead>\n",
       "  <tbody>\n",
       "    <tr>\n",
       "      <th>0</th>\n",
       "      <td>1</td>\n",
       "      <td>Harry James Potter</td>\n",
       "      <td>Male</td>\n",
       "      <td>Gryffindor</td>\n",
       "      <td>11  Holly  phoenix feather</td>\n",
       "      <td>Stag</td>\n",
       "      <td>Half-blood</td>\n",
       "      <td>July 1980</td>\n",
       "    </tr>\n",
       "    <tr>\n",
       "      <th>1</th>\n",
       "      <td>2</td>\n",
       "      <td>Ronald Bilius Weasley</td>\n",
       "      <td>Male</td>\n",
       "      <td>Gryffindor</td>\n",
       "      <td>12 Ash unicorn tail hair</td>\n",
       "      <td>Jack Russell terrier</td>\n",
       "      <td>Pure-blood</td>\n",
       "      <td>March 1980</td>\n",
       "    </tr>\n",
       "    <tr>\n",
       "      <th>2</th>\n",
       "      <td>3</td>\n",
       "      <td>Hermione Jean Granger</td>\n",
       "      <td>Female</td>\n",
       "      <td>Gryffindor</td>\n",
       "      <td>10¾  vine wood dragon heartstring</td>\n",
       "      <td>Otter</td>\n",
       "      <td>Muggle-born</td>\n",
       "      <td>September 1979</td>\n",
       "    </tr>\n",
       "    <tr>\n",
       "      <th>3</th>\n",
       "      <td>4</td>\n",
       "      <td>Albus Percival Wulfric Brian Dumbledore</td>\n",
       "      <td>Male</td>\n",
       "      <td>Gryffindor</td>\n",
       "      <td>15 Elder Thestral tail hair core</td>\n",
       "      <td>Phoenix</td>\n",
       "      <td>Half-blood</td>\n",
       "      <td>August 1881</td>\n",
       "    </tr>\n",
       "    <tr>\n",
       "      <th>4</th>\n",
       "      <td>5</td>\n",
       "      <td>Rubeus Hagrid</td>\n",
       "      <td>Male</td>\n",
       "      <td>Gryffindor</td>\n",
       "      <td>16  Oak unknown core</td>\n",
       "      <td>None</td>\n",
       "      <td>Part-Human (Half-giant)</td>\n",
       "      <td>December 1928</td>\n",
       "    </tr>\n",
       "    <tr>\n",
       "      <th>...</th>\n",
       "      <td>...</td>\n",
       "      <td>...</td>\n",
       "      <td>...</td>\n",
       "      <td>...</td>\n",
       "      <td>...</td>\n",
       "      <td>...</td>\n",
       "      <td>...</td>\n",
       "      <td>...</td>\n",
       "    </tr>\n",
       "    <tr>\n",
       "      <th>135</th>\n",
       "      <td>136</td>\n",
       "      <td>Wilhelmina Grubbly-Plank</td>\n",
       "      <td>Female</td>\n",
       "      <td>None</td>\n",
       "      <td>Unknown</td>\n",
       "      <td>Non-corporeal</td>\n",
       "      <td>None</td>\n",
       "      <td>None</td>\n",
       "    </tr>\n",
       "    <tr>\n",
       "      <th>136</th>\n",
       "      <td>137</td>\n",
       "      <td>Fenrir Greyback</td>\n",
       "      <td>Male</td>\n",
       "      <td>None</td>\n",
       "      <td>Unknown</td>\n",
       "      <td>None</td>\n",
       "      <td>None</td>\n",
       "      <td>None</td>\n",
       "    </tr>\n",
       "    <tr>\n",
       "      <th>137</th>\n",
       "      <td>138</td>\n",
       "      <td>Gellert Grindelwald</td>\n",
       "      <td>Male</td>\n",
       "      <td>None</td>\n",
       "      <td>15, Elder, Thestral tail hair core</td>\n",
       "      <td>None</td>\n",
       "      <td>Pure-blood or half-blood</td>\n",
       "      <td>None</td>\n",
       "    </tr>\n",
       "    <tr>\n",
       "      <th>138</th>\n",
       "      <td>139</td>\n",
       "      <td>Dobby</td>\n",
       "      <td>Male</td>\n",
       "      <td>None</td>\n",
       "      <td>None</td>\n",
       "      <td>None</td>\n",
       "      <td>None</td>\n",
       "      <td>June None</td>\n",
       "    </tr>\n",
       "    <tr>\n",
       "      <th>139</th>\n",
       "      <td>140</td>\n",
       "      <td>Kreacher</td>\n",
       "      <td>Male</td>\n",
       "      <td>None</td>\n",
       "      <td>None</td>\n",
       "      <td>None</td>\n",
       "      <td>None</td>\n",
       "      <td>None</td>\n",
       "    </tr>\n",
       "  </tbody>\n",
       "</table>\n",
       "<p>140 rows × 8 columns</p>\n",
       "</div>"
      ],
      "text/plain": [
       "      id                                     name  gender       house  \\\n",
       "0      1                       Harry James Potter    Male  Gryffindor   \n",
       "1      2                    Ronald Bilius Weasley    Male  Gryffindor   \n",
       "2      3                    Hermione Jean Granger  Female  Gryffindor   \n",
       "3      4  Albus Percival Wulfric Brian Dumbledore    Male  Gryffindor   \n",
       "4      5                            Rubeus Hagrid    Male  Gryffindor   \n",
       "..   ...                                      ...     ...         ...   \n",
       "135  136                 Wilhelmina Grubbly-Plank  Female        None   \n",
       "136  137                          Fenrir Greyback    Male        None   \n",
       "137  138                      Gellert Grindelwald    Male        None   \n",
       "138  139                                    Dobby    Male        None   \n",
       "139  140                                 Kreacher    Male        None   \n",
       "\n",
       "                                   wand              patronus  \\\n",
       "0            11  Holly  phoenix feather                  Stag   \n",
       "1             12 Ash unicorn tail hair   Jack Russell terrier   \n",
       "2     10¾  vine wood dragon heartstring                 Otter   \n",
       "3      15 Elder Thestral tail hair core               Phoenix   \n",
       "4                  16  Oak unknown core                  None   \n",
       "..                                  ...                   ...   \n",
       "135                             Unknown         Non-corporeal   \n",
       "136                             Unknown                  None   \n",
       "137  15, Elder, Thestral tail hair core                  None   \n",
       "138                                None                  None   \n",
       "139                                None                  None   \n",
       "\n",
       "                 blood_status       birthdate  \n",
       "0                  Half-blood       July 1980  \n",
       "1                  Pure-blood      March 1980  \n",
       "2                 Muggle-born  September 1979  \n",
       "3                  Half-blood     August 1881  \n",
       "4     Part-Human (Half-giant)   December 1928  \n",
       "..                        ...             ...  \n",
       "135                      None            None  \n",
       "136                      None            None  \n",
       "137  Pure-blood or half-blood            None  \n",
       "138                      None       June None  \n",
       "139                      None            None  \n",
       "\n",
       "[140 rows x 8 columns]"
      ]
     },
     "execution_count": 2,
     "metadata": {},
     "output_type": "execute_result"
    }
   ],
   "source": [
    "import pandas as pd\n",
    "from sqlalchemy import create_engine\n",
    "# !pip install psycopg2\n",
    "\n",
    "# Connection string (replace with your actual credentials)\n",
    "username = 'postgres'\n",
    "password = 'postgres'\n",
    "host = 'localhost'\n",
    "port = '5432'\n",
    "database = 'hp_db'\n",
    "\n",
    "# Create connection string and engine\n",
    "connection_string = f'postgresql://{username}:{password}@{host}:{port}/{database}'\n",
    "engine = create_engine(connection_string)\n",
    "\n",
    "# Define your SQL query\n",
    "sql_query = 'SELECT * FROM characters'  # Replace with your query\n",
    "\n",
    "# Use Pandas to execute the SQL query and return the result as a DataFrame\n",
    "characters_df = pd.read_sql(sql_query, engine)\n",
    "\n",
    "# Display the DataFrame\n",
    "characters_df"
   ]
  },
  {
   "cell_type": "code",
   "execution_count": 3,
   "metadata": {},
   "outputs": [
    {
     "name": "stdout",
     "output_type": "stream",
     "text": [
      "Index(['id', 'name', 'gender', 'house', 'wand', 'patronus', 'blood_status',\n",
      "       'birthdate'],\n",
      "      dtype='object')\n"
     ]
    }
   ],
   "source": [
    "print(characters_df.columns)"
   ]
  },
  {
   "cell_type": "code",
   "execution_count": 4,
   "metadata": {},
   "outputs": [
    {
     "data": {
      "text/plain": [
       "gender\n",
       "Male      90\n",
       "Female    49\n",
       "Name: count, dtype: int64"
      ]
     },
     "execution_count": 4,
     "metadata": {},
     "output_type": "execute_result"
    }
   ],
   "source": [
    "gender_counts = characters_df['gender'].value_counts()\n",
    "gender_counts.columns = ['gender', 'count']\n",
    "gender_counts"
   ]
  },
  {
   "cell_type": "code",
   "execution_count": 5,
   "metadata": {},
   "outputs": [
    {
     "data": {
      "text/html": [
       "<div>\n",
       "<style scoped>\n",
       "    .dataframe tbody tr th:only-of-type {\n",
       "        vertical-align: middle;\n",
       "    }\n",
       "\n",
       "    .dataframe tbody tr th {\n",
       "        vertical-align: top;\n",
       "    }\n",
       "\n",
       "    .dataframe thead th {\n",
       "        text-align: right;\n",
       "    }\n",
       "</style>\n",
       "<table border=\"1\" class=\"dataframe\">\n",
       "  <thead>\n",
       "    <tr style=\"text-align: right;\">\n",
       "      <th></th>\n",
       "      <th>house_id</th>\n",
       "      <th>founder</th>\n",
       "      <th>mascot</th>\n",
       "      <th>colors</th>\n",
       "      <th>common_room</th>\n",
       "    </tr>\n",
       "  </thead>\n",
       "  <tbody>\n",
       "    <tr>\n",
       "      <th>0</th>\n",
       "      <td>Gryffindor</td>\n",
       "      <td>Godric Gryffindor</td>\n",
       "      <td>lion</td>\n",
       "      <td>Scarlet and gold</td>\n",
       "      <td>Gryffindor Tower</td>\n",
       "    </tr>\n",
       "    <tr>\n",
       "      <th>1</th>\n",
       "      <td>Hufflepuff</td>\n",
       "      <td>Helga Hufflepuff</td>\n",
       "      <td>badger</td>\n",
       "      <td>Yellow and black</td>\n",
       "      <td>Hufflepuff Basement</td>\n",
       "    </tr>\n",
       "    <tr>\n",
       "      <th>2</th>\n",
       "      <td>Ravenclaw</td>\n",
       "      <td>Rowena Ravenclaw</td>\n",
       "      <td>eagle</td>\n",
       "      <td>Blue and bronze</td>\n",
       "      <td>Ravenclaw Tower</td>\n",
       "    </tr>\n",
       "    <tr>\n",
       "      <th>3</th>\n",
       "      <td>Slytherin</td>\n",
       "      <td>Salazar Slytherin</td>\n",
       "      <td>snake</td>\n",
       "      <td>Green and silver</td>\n",
       "      <td>Slytherin Dungeon</td>\n",
       "    </tr>\n",
       "  </tbody>\n",
       "</table>\n",
       "</div>"
      ],
      "text/plain": [
       "     house_id            founder  mascot            colors  \\\n",
       "0  Gryffindor  Godric Gryffindor    lion  Scarlet and gold   \n",
       "1  Hufflepuff   Helga Hufflepuff  badger  Yellow and black   \n",
       "2   Ravenclaw   Rowena Ravenclaw   eagle   Blue and bronze   \n",
       "3   Slytherin  Salazar Slytherin   snake  Green and silver   \n",
       "\n",
       "           common_room  \n",
       "0     Gryffindor Tower  \n",
       "1  Hufflepuff Basement  \n",
       "2      Ravenclaw Tower  \n",
       "3    Slytherin Dungeon  "
      ]
     },
     "execution_count": 5,
     "metadata": {},
     "output_type": "execute_result"
    }
   ],
   "source": [
    "query = \"SELECT * FROM house;\"\n",
    "house = pd.read_sql(query, engine)\n",
    "house"
   ]
  },
  {
   "cell_type": "code",
   "execution_count": 6,
   "metadata": {},
   "outputs": [
    {
     "data": {
      "text/html": [
       "<div>\n",
       "<style scoped>\n",
       "    .dataframe tbody tr th:only-of-type {\n",
       "        vertical-align: middle;\n",
       "    }\n",
       "\n",
       "    .dataframe tbody tr th {\n",
       "        vertical-align: top;\n",
       "    }\n",
       "\n",
       "    .dataframe thead th {\n",
       "        text-align: right;\n",
       "    }\n",
       "</style>\n",
       "<table border=\"1\" class=\"dataframe\">\n",
       "  <thead>\n",
       "    <tr style=\"text-align: right;\">\n",
       "      <th></th>\n",
       "      <th>name</th>\n",
       "      <th>colors</th>\n",
       "    </tr>\n",
       "  </thead>\n",
       "  <tbody>\n",
       "    <tr>\n",
       "      <th>0</th>\n",
       "      <td>Hannah Abbott</td>\n",
       "      <td>Yellow and black</td>\n",
       "    </tr>\n",
       "  </tbody>\n",
       "</table>\n",
       "</div>"
      ],
      "text/plain": [
       "            name            colors\n",
       "0  Hannah Abbott  Yellow and black"
      ]
     },
     "execution_count": 6,
     "metadata": {},
     "output_type": "execute_result"
    }
   ],
   "source": [
    "# Query to find the house colors for Hannah Abbott\n",
    "query = \"\"\"\n",
    "SELECT c.name, h.colors\n",
    "FROM house h\n",
    "JOIN characters c ON h.house_id = c.house\n",
    "WHERE c.name = 'Hannah Abbott';\n",
    "\"\"\"\n",
    "\n",
    "# Run the query using the engine\n",
    "colors = pd.read_sql(query, engine)\n",
    "\n",
    "# Display the result\n",
    "colors"
   ]
  },
  {
   "cell_type": "code",
   "execution_count": 7,
   "metadata": {},
   "outputs": [
    {
     "data": {
      "text/html": [
       "<div>\n",
       "<style scoped>\n",
       "    .dataframe tbody tr th:only-of-type {\n",
       "        vertical-align: middle;\n",
       "    }\n",
       "\n",
       "    .dataframe tbody tr th {\n",
       "        vertical-align: top;\n",
       "    }\n",
       "\n",
       "    .dataframe thead th {\n",
       "        text-align: right;\n",
       "    }\n",
       "</style>\n",
       "<table border=\"1\" class=\"dataframe\">\n",
       "  <thead>\n",
       "    <tr style=\"text-align: right;\">\n",
       "      <th></th>\n",
       "      <th>name</th>\n",
       "      <th>common_room</th>\n",
       "    </tr>\n",
       "  </thead>\n",
       "  <tbody>\n",
       "    <tr>\n",
       "      <th>0</th>\n",
       "      <td>Molly Weasley</td>\n",
       "      <td>Gryffindor Tower</td>\n",
       "    </tr>\n",
       "  </tbody>\n",
       "</table>\n",
       "</div>"
      ],
      "text/plain": [
       "            name       common_room\n",
       "0  Molly Weasley  Gryffindor Tower"
      ]
     },
     "execution_count": 7,
     "metadata": {},
     "output_type": "execute_result"
    }
   ],
   "source": [
    "# Query to find the common room for Molly Weasley's house\n",
    "query = \"\"\"\n",
    "SELECT c.name, h.common_room\n",
    "FROM house h\n",
    "JOIN characters c ON h.house_id = c.house\n",
    "WHERE c.name = 'Molly Weasley';\n",
    "\"\"\"\n",
    "\n",
    "# Run the query using the engine\n",
    "common_room = pd.read_sql(query, engine)\n",
    "\n",
    "# Display the result\n",
    "common_room"
   ]
  },
  {
   "cell_type": "code",
   "execution_count": 11,
   "metadata": {},
   "outputs": [
    {
     "data": {
      "image/png": "[encoded data removed]",
      "text/plain": [
       "<Figure size 700x700 with 1 Axes>"
      ]
     },
     "metadata": {},
     "output_type": "display_data"
    }
   ],
   "source": [
    "import matplotlib.pyplot as plt\n",
    "\n",
    "house_counts = characters_df['house'].value_counts()\n",
    "\n",
    "# Define lighter, pastel colors for each house\n",
    "house_colors = {\n",
    "    'Gryffindor': '#ff9999',  # Light Red\n",
    "    'Hufflepuff': '#ffff99',  # Light Yellow\n",
    "    'Ravenclaw': '#99ccff',  # Light Blue\n",
    "    'Slytherin': '#99ff99'   # Light Green\n",
    "}\n",
    "\n",
    "# Assign colors to the pie chart based on house\n",
    "colors = [house_colors.get(house, '#d3d3d3') for house in house_counts.index]  # Default to light gray if no house match\n",
    "\n",
    "# Define a function to format the labels with both count and percentage\n",
    "def func(pct, allvalues):\n",
    "    absolute = int(pct / 100.*sum(allvalues))  # Get the count\n",
    "    return f\"{absolute} ({pct:.1f}%)\"  # Format as count (percentage)\n",
    "\n",
    "# Create the pie chart\n",
    "plt.figure(figsize=(7, 7))\n",
    "plt.pie(house_counts, labels=house_counts.index, autopct=lambda pct: func(pct, house_counts), startangle=140, colors=colors)\n",
    "plt.title('House Distribution')\n",
    "plt.axis('equal')  # Equal aspect ratio ensures that pie is drawn as a circle.\n",
    "# Save the output as a PNG file\n",
    "plt.savefig('house_distribution.png', format='png')\n",
    "plt.show()"
   ]
  },
  {
   "cell_type": "code",
   "execution_count": 9,
   "metadata": {},
   "outputs": [
    {
     "data": {
      "image/png": "[encoded data removed]",
      "text/plain": [
       "<Figure size 1000x600 with 1 Axes>"
      ]
     },
     "metadata": {},
     "output_type": "display_data"
    }
   ],
   "source": [
    "import matplotlib.dates as mdates\n",
    "from datetime import datetime\n",
    "\n",
    "def parse_birthdate(birthdate_str):\n",
    "    try:\n",
    "        return pd.to_datetime(birthdate_str, errors='coerce', format='%B %Y')\n",
    "    except Exception as e:\n",
    "        return pd.NaT  # Return NaT if the date is invalid\n",
    "\n",
    "# Apply the parsing function to the 'birthdate' column\n",
    "characters_df['birthdate'] = characters_df['birthdate'].apply(parse_birthdate)\n",
    "\n",
    "# Drop rows where birthdate is missing or invalid\n",
    "characters_df_cleaned = characters_df.dropna(subset=['birthdate'])\n",
    "\n",
    "# Create the timeline plot\n",
    "plt.figure(figsize=(10, 6))\n",
    "\n",
    "# Plot the birthdates as scatter points on the timeline\n",
    "plt.scatter(characters_df_cleaned['birthdate'], characters_df_cleaned['name'], color='blue', label='Character Birthdate')\n",
    "\n",
    "# Formatting the plot\n",
    "plt.title('Character Birthdates Timeline')\n",
    "plt.xlabel('Year')\n",
    "plt.ylabel('Character')\n",
    "plt.xticks(rotation=45)\n",
    "plt.grid(True)\n",
    "\n",
    "# Set the x-axis to display the dates in a readable format\n",
    "plt.gca().xaxis.set_major_locator(mdates.YearLocator(10))  # Tick every 10 years\n",
    "plt.gca().xaxis.set_major_formatter(mdates.DateFormatter('%Y'))\n",
    "\n",
    "# Show the plot\n",
    "plt.tight_layout()\n",
    "plt.show()"
   ]
  },
  {
   "cell_type": "code",
   "execution_count": null,
   "metadata": {},
   "outputs": [
    {
     "name": "stderr",
     "output_type": "stream",
     "text": [
      "C:\\Users\\jenn2\\AppData\\Local\\Temp\\ipykernel_19916\\2865096113.py:14: SettingWithCopyWarning: \n",
      "A value is trying to be set on a copy of a slice from a DataFrame.\n",
      "Try using .loc[row_indexer,col_indexer] = value instead\n",
      "\n",
      "See the caveats in the documentation: https://pandas.pydata.org/pandas-docs/stable/user_guide/indexing.html#returning-a-view-versus-a-copy\n",
      "  characters_df_cleaned['y'] = 0\n"
     ]
    },
    {
     "data": {
      "application/vnd.plotly.v1+json": {
       "config": {
        "plotlyServerURL": "https://plot.ly"
       },
       "data": [
        {
         "hovertemplate": "<b>%{hovertext}</b><br><br>birthdate=%{x}<br>=%{y}<extra></extra>",
         "hovertext": [
          "Harry James Potter",
          "Ronald Bilius Weasley",
          "Hermione Jean Granger",
          "Albus Percival Wulfric Brian Dumbledore",
          "Rubeus Hagrid",
          "Neville Longbottom",
          "Fred Weasley",
          "George Weasley",
          "Ginevra (Ginny) Molly Weasley",
          "Dean Thomas",
          "Seamus Finnigan",
          "Lily J. Potter",
          "James Potter",
          "Sirius Black",
          "Remus John Lupin",
          "Peter Pettigrew",
          "Percy Ignatius Weasley",
          "(Bill) William Arthur Weasley",
          "Charles Weasley",
          "Lee Jordan ",
          "Oliver Wood",
          "Angelina Johnson",
          "Katie Bell",
          "Alicia Spinnet",
          "Lavender Brown",
          "Parvati Patil",
          "Romilda Vane",
          "Colin Creevey",
          "Cormac McLaggen",
          "Molly Weasley",
          "Arthur Weasley",
          "Quirinus Quirrell",
          "Cho Chang",
          "Luna Lovegood",
          "Gilderoy Lockhart",
          "Filius Flitwick",
          "Sybill Patricia Trelawney",
          "Garrick Ollivander",
          "Myrtle Elizabeth Warren (Moaning Myrtle)",
          "Padma Patil",
          "Michael Corner",
          "Terry Boot",
          "Anthony Goldstein",
          "Severus Snape",
          "Draco Malfoy",
          "Gregory Goyle",
          "Pansy Parkinson",
          "Blaise Zabini",
          "Tom Marvolo Riddle",
          "Theodore Nott",
          "Millicent Bulstrode",
          "Marcus Flint",
          "Penelope Clearwater",
          "Roger Davies",
          "Marcus Belby",
          "Nymphadora Tonks",
          "Newton Scamander",
          "Cedric Diggory",
          "Justin Finch-Fletchley",
          "Zacharias Smith",
          "Hannah Abbott",
          "Ernest Macmillan",
          "Susan Bones",
          "Frank Longbottom",
          "Elphias Doge",
          "Fleur Isabelle Delacour",
          "Aberforth Dumbledore",
          "Sturgis Podmore",
          "Gabrielle Delacour",
          "Viktor Krum",
          "Dudley Dursley",
          "Dennis Creevey",
          "Albus Severus Potter",
          "Scorpius Hyperion Malfoy",
          "Edward Remus Lupin",
          "James Sirius Potter",
          "Rose Granger-Weasley"
         ],
         "legendgroup": "",
         "marker": {
          "color": "#636efa",
          "symbol": "circle"
         },
         "mode": "markers",
         "name": "",
         "orientation": "v",
         "showlegend": false,
         "type": "scatter",
         "x": [
          "1980-07-01T00:00:00.000000000",
          "1980-03-01T00:00:00.000000000",
          "1979-09-01T00:00:00.000000000",
          "1881-08-01T00:00:00.000000000",
          "1928-12-01T00:00:00.000000000",
          "1980-07-01T00:00:00.000000000",
          "1978-04-01T00:00:00.000000000",
          "1978-04-01T00:00:00.000000000",
          "1981-08-01T00:00:00.000000000",
          "1980-09-01T00:00:00.000000000",
          "1981-09-01T00:00:00.000000000",
          "1960-01-01T00:00:00.000000000",
          "1960-03-01T00:00:00.000000000",
          "1959-11-01T00:00:00.000000000",
          "1960-03-01T00:00:00.000000000",
          "1960-09-01T00:00:00.000000000",
          "1976-08-01T00:00:00.000000000",
          "1970-11-01T00:00:00.000000000",
          "1972-12-01T00:00:00.000000000",
          "1978-09-01T00:00:00.000000000",
          "1976-10-01T00:00:00.000000000",
          "1977-10-01T00:00:00.000000000",
          "1979-09-01T00:00:00.000000000",
          "1978-09-01T00:00:00.000000000",
          "1980-09-01T00:00:00.000000000",
          "1980-09-01T00:00:00.000000000",
          "1982-09-01T00:00:00.000000000",
          "1981-05-01T00:00:00.000000000",
          "1979-09-01T00:00:00.000000000",
          "1949-10-01T00:00:00.000000000",
          "1950-02-01T00:00:00.000000000",
          "1970-09-01T00:00:00.000000000",
          "1979-09-01T00:00:00.000000000",
          "1981-02-01T00:00:00.000000000",
          "1964-01-01T00:00:00.000000000",
          "1958-10-01T00:00:00.000000000",
          "1962-03-01T00:00:00.000000000",
          "1908-09-01T00:00:00.000000000",
          "1929-06-01T00:00:00.000000000",
          "1980-09-01T00:00:00.000000000",
          "1980-09-01T00:00:00.000000000",
          "1980-09-01T00:00:00.000000000",
          "1980-09-01T00:00:00.000000000",
          "1960-01-01T00:00:00.000000000",
          "1980-06-01T00:00:00.000000000",
          "1980-09-01T00:00:00.000000000",
          "1980-09-01T00:00:00.000000000",
          "1980-09-01T00:00:00.000000000",
          "1926-12-01T00:00:00.000000000",
          "1980-09-01T00:00:00.000000000",
          "1980-09-01T00:00:00.000000000",
          "1976-09-01T00:00:00.000000000",
          "1976-09-01T00:00:00.000000000",
          "1978-09-01T00:00:00.000000000",
          "1979-09-01T00:00:00.000000000",
          "1973-09-01T00:00:00.000000000",
          "1897-02-01T00:00:00.000000000",
          "1977-09-01T00:00:00.000000000",
          "1980-09-01T00:00:00.000000000",
          "1981-09-01T00:00:00.000000000",
          "1980-09-01T00:00:00.000000000",
          "1980-04-01T00:00:00.000000000",
          "1980-09-01T00:00:00.000000000",
          "1959-09-01T00:00:00.000000000",
          "1881-09-01T00:00:00.000000000",
          "1977-10-01T00:00:00.000000000",
          "1884-09-01T00:00:00.000000000",
          "1957-09-01T00:00:00.000000000",
          "1986-07-01T00:00:00.000000000",
          "1976-04-01T00:00:00.000000000",
          "1980-06-01T00:00:00.000000000",
          "1983-09-01T00:00:00.000000000",
          "2006-09-01T00:00:00.000000000",
          "2007-09-01T00:00:00.000000000",
          "1998-04-01T00:00:00.000000000",
          "2004-09-01T00:00:00.000000000",
          "2006-09-01T00:00:00.000000000"
         ],
         "xaxis": "x",
         "y": {
          "bdata": "AAAAAAAAAAAAAAAAAAAAAAAAAAAAAAAAAAAAAAAAAAAAAAAAAAAAAAAAAAAAAAAAAAAAAAAAAAAAAAAAAAAAAAAAAAAAAAAAAAAAAAA=",
          "dtype": "i1"
         },
         "yaxis": "y"
        }
       ],
       "layout": {
        "height": 400,
        "hovermode": "closest",
        "legend": {
         "tracegroupgap": 0
        },
        "template": {
         "data": {
          "bar": [
           {
            "error_x": {
             "color": "#2a3f5f"
            },
            "error_y": {
             "color": "#2a3f5f"
            },
            "marker": {
             "line": {
              "color": "#E5ECF6",
              "width": 0.5
             },
             "pattern": {
              "fillmode": "overlay",
              "size": 10,
              "solidity": 0.2
             }
            },
            "type": "bar"
           }
          ],
          "barpolar": [
           {
            "marker": {
             "line": {
              "color": "#E5ECF6",
              "width": 0.5
             },
             "pattern": {
              "fillmode": "overlay",
              "size": 10,
              "solidity": 0.2
             }
            },
            "type": "barpolar"
           }
          ],
          "carpet": [
           {
            "aaxis": {
             "endlinecolor": "#2a3f5f",
             "gridcolor": "white",
             "linecolor": "white",
             "minorgridcolor": "white",
             "startlinecolor": "#2a3f5f"
            },
            "baxis": {
             "endlinecolor": "#2a3f5f",
             "gridcolor": "white",
             "linecolor": "white",
             "minorgridcolor": "white",
             "startlinecolor": "#2a3f5f"
            },
            "type": "carpet"
           }
          ],
          "choropleth": [
           {
            "colorbar": {
             "outlinewidth": 0,
             "ticks": ""
            },
            "type": "choropleth"
           }
          ],
          "contour": [
           {
            "colorbar": {
             "outlinewidth": 0,
             "ticks": ""
            },
            "colorscale": [
             [
              0,
              "#0d0887"
             ],
             [
              0.1111111111111111,
              "#46039f"
             ],
             [
              0.2222222222222222,
              "#7201a8"
             ],
             [
              0.3333333333333333,
              "#9c179e"
             ],
             [
              0.4444444444444444,
              "#bd3786"
             ],
             [
              0.5555555555555556,
              "#d8576b"
             ],
             [
              0.6666666666666666,
              "#ed7953"
             ],
             [
              0.7777777777777778,
              "#fb9f3a"
             ],
             [
              0.8888888888888888,
              "#fdca26"
             ],
             [
              1,
              "#f0f921"
             ]
            ],
            "type": "contour"
           }
          ],
          "contourcarpet": [
           {
            "colorbar": {
             "outlinewidth": 0,
             "ticks": ""
            },
            "type": "contourcarpet"
           }
          ],
          "heatmap": [
           {
            "colorbar": {
             "outlinewidth": 0,
             "ticks": ""
            },
            "colorscale": [
             [
              0,
              "#0d0887"
             ],
             [
              0.1111111111111111,
              "#46039f"
             ],
             [
              0.2222222222222222,
              "#7201a8"
             ],
             [
              0.3333333333333333,
              "#9c179e"
             ],
             [
              0.4444444444444444,
              "#bd3786"
             ],
             [
              0.5555555555555556,
              "#d8576b"
             ],
             [
              0.6666666666666666,
              "#ed7953"
             ],
             [
              0.7777777777777778,
              "#fb9f3a"
             ],
             [
              0.8888888888888888,
              "#fdca26"
             ],
             [
              1,
              "#f0f921"
             ]
            ],
            "type": "heatmap"
           }
          ],
          "histogram": [
           {
            "marker": {
             "pattern": {
              "fillmode": "overlay",
              "size": 10,
              "solidity": 0.2
             }
            },
            "type": "histogram"
           }
          ],
          "histogram2d": [
           {
            "colorbar": {
             "outlinewidth": 0,
             "ticks": ""
            },
            "colorscale": [
             [
              0,
              "#0d0887"
             ],
             [
              0.1111111111111111,
              "#46039f"
             ],
             [
              0.2222222222222222,
              "#7201a8"
             ],
             [
              0.3333333333333333,
              "#9c179e"
             ],
             [
              0.4444444444444444,
              "#bd3786"
             ],
             [
              0.5555555555555556,
              "#d8576b"
             ],
             [
              0.6666666666666666,
              "#ed7953"
             ],
             [
              0.7777777777777778,
              "#fb9f3a"
             ],
             [
              0.8888888888888888,
              "#fdca26"
             ],
             [
              1,
              "#f0f921"
             ]
            ],
            "type": "histogram2d"
           }
          ],
          "histogram2dcontour": [
           {
            "colorbar": {
             "outlinewidth": 0,
             "ticks": ""
            },
            "colorscale": [
             [
              0,
              "#0d0887"
             ],
             [
              0.1111111111111111,
              "#46039f"
             ],
             [
              0.2222222222222222,
              "#7201a8"
             ],
             [
              0.3333333333333333,
              "#9c179e"
             ],
             [
              0.4444444444444444,
              "#bd3786"
             ],
             [
              0.5555555555555556,
              "#d8576b"
             ],
             [
              0.6666666666666666,
              "#ed7953"
             ],
             [
              0.7777777777777778,
              "#fb9f3a"
             ],
             [
              0.8888888888888888,
              "#fdca26"
             ],
             [
              1,
              "#f0f921"
             ]
            ],
            "type": "histogram2dcontour"
           }
          ],
          "mesh3d": [
           {
            "colorbar": {
             "outlinewidth": 0,
             "ticks": ""
            },
            "type": "mesh3d"
           }
          ],
          "parcoords": [
           {
            "line": {
             "colorbar": {
              "outlinewidth": 0,
              "ticks": ""
             }
            },
            "type": "parcoords"
           }
          ],
          "pie": [
           {
            "automargin": true,
            "type": "pie"
           }
          ],
          "scatter": [
           {
            "fillpattern": {
             "fillmode": "overlay",
             "size": 10,
             "solidity": 0.2
            },
            "type": "scatter"
           }
          ],
          "scatter3d": [
           {
            "line": {
             "colorbar": {
              "outlinewidth": 0,
              "ticks": ""
             }
            },
            "marker": {
             "colorbar": {
              "outlinewidth": 0,
              "ticks": ""
             }
            },
            "type": "scatter3d"
           }
          ],
          "scattercarpet": [
           {
            "marker": {
             "colorbar": {
              "outlinewidth": 0,
              "ticks": ""
             }
            },
            "type": "scattercarpet"
           }
          ],
          "scattergeo": [
           {
            "marker": {
             "colorbar": {
              "outlinewidth": 0,
              "ticks": ""
             }
            },
            "type": "scattergeo"
           }
          ],
          "scattergl": [
           {
            "marker": {
             "colorbar": {
              "outlinewidth": 0,
              "ticks": ""
             }
            },
            "type": "scattergl"
           }
          ],
          "scattermap": [
           {
            "marker": {
             "colorbar": {
              "outlinewidth": 0,
              "ticks": ""
             }
            },
            "type": "scattermap"
           }
          ],
          "scattermapbox": [
           {
            "marker": {
             "colorbar": {
              "outlinewidth": 0,
              "ticks": ""
             }
            },
            "type": "scattermapbox"
           }
          ],
          "scatterpolar": [
           {
            "marker": {
             "colorbar": {
              "outlinewidth": 0,
              "ticks": ""
             }
            },
            "type": "scatterpolar"
           }
          ],
          "scatterpolargl": [
           {
            "marker": {
             "colorbar": {
              "outlinewidth": 0,
              "ticks": ""
             }
            },
            "type": "scatterpolargl"
           }
          ],
          "scatterternary": [
           {
            "marker": {
             "colorbar": {
              "outlinewidth": 0,
              "ticks": ""
             }
            },
            "type": "scatterternary"
           }
          ],
          "surface": [
           {
            "colorbar": {
             "outlinewidth": 0,
             "ticks": ""
            },
            "colorscale": [
             [
              0,
              "#0d0887"
             ],
             [
              0.1111111111111111,
              "#46039f"
             ],
             [
              0.2222222222222222,
              "#7201a8"
             ],
             [
              0.3333333333333333,
              "#9c179e"
             ],
             [
              0.4444444444444444,
              "#bd3786"
             ],
             [
              0.5555555555555556,
              "#d8576b"
             ],
             [
              0.6666666666666666,
              "#ed7953"
             ],
             [
              0.7777777777777778,
              "#fb9f3a"
             ],
             [
              0.8888888888888888,
              "#fdca26"
             ],
             [
              1,
              "#f0f921"
             ]
            ],
            "type": "surface"
           }
          ],
          "table": [
           {
            "cells": {
             "fill": {
              "color": "#EBF0F8"
             },
             "line": {
              "color": "white"
             }
            },
            "header": {
             "fill": {
              "color": "#C8D4E3"
             },
             "line": {
              "color": "white"
             }
            },
            "type": "table"
           }
          ]
         },
         "layout": {
          "annotationdefaults": {
           "arrowcolor": "#2a3f5f",
           "arrowhead": 0,
           "arrowwidth": 1
          },
          "autotypenumbers": "strict",
          "coloraxis": {
           "colorbar": {
            "outlinewidth": 0,
            "ticks": ""
           }
          },
          "colorscale": {
           "diverging": [
            [
             0,
             "#8e0152"
            ],
            [
             0.1,
             "#c51b7d"
            ],
            [
             0.2,
             "#de77ae"
            ],
            [
             0.3,
             "#f1b6da"
            ],
            [
             0.4,
             "#fde0ef"
            ],
            [
             0.5,
             "#f7f7f7"
            ],
            [
             0.6,
             "#e6f5d0"
            ],
            [
             0.7,
             "#b8e186"
            ],
            [
             0.8,
             "#7fbc41"
            ],
            [
             0.9,
             "#4d9221"
            ],
            [
             1,
             "#276419"
            ]
           ],
           "sequential": [
            [
             0,
             "#0d0887"
            ],
            [
             0.1111111111111111,
             "#46039f"
            ],
            [
             0.2222222222222222,
             "#7201a8"
            ],
            [
             0.3333333333333333,
             "#9c179e"
            ],
            [
             0.4444444444444444,
             "#bd3786"
            ],
            [
             0.5555555555555556,
             "#d8576b"
            ],
            [
             0.6666666666666666,
             "#ed7953"
            ],
            [
             0.7777777777777778,
             "#fb9f3a"
            ],
            [
             0.8888888888888888,
             "#fdca26"
            ],
            [
             1,
             "#f0f921"
            ]
           ],
           "sequentialminus": [
            [
             0,
             "#0d0887"
            ],
            [
             0.1111111111111111,
             "#46039f"
            ],
            [
             0.2222222222222222,
             "#7201a8"
            ],
            [
             0.3333333333333333,
             "#9c179e"
            ],
            [
             0.4444444444444444,
             "#bd3786"
            ],
            [
             0.5555555555555556,
             "#d8576b"
            ],
            [
             0.6666666666666666,
             "#ed7953"
            ],
            [
             0.7777777777777778,
             "#fb9f3a"
            ],
            [
             0.8888888888888888,
             "#fdca26"
            ],
            [
             1,
             "#f0f921"
            ]
           ]
          },
          "colorway": [
           "#636efa",
           "#EF553B",
           "#00cc96",
           "#ab63fa",
           "#FFA15A",
           "#19d3f3",
           "#FF6692",
           "#B6E880",
           "#FF97FF",
           "#FECB52"
          ],
          "font": {
           "color": "#2a3f5f"
          },
          "geo": {
           "bgcolor": "white",
           "lakecolor": "white",
           "landcolor": "#E5ECF6",
           "showlakes": true,
           "showland": true,
           "subunitcolor": "white"
          },
          "hoverlabel": {
           "align": "left"
          },
          "hovermode": "closest",
          "mapbox": {
           "style": "light"
          },
          "paper_bgcolor": "white",
          "plot_bgcolor": "#E5ECF6",
          "polar": {
           "angularaxis": {
            "gridcolor": "white",
            "linecolor": "white",
            "ticks": ""
           },
           "bgcolor": "#E5ECF6",
           "radialaxis": {
            "gridcolor": "white",
            "linecolor": "white",
            "ticks": ""
           }
          },
          "scene": {
           "xaxis": {
            "backgroundcolor": "#E5ECF6",
            "gridcolor": "white",
            "gridwidth": 2,
            "linecolor": "white",
            "showbackground": true,
            "ticks": "",
            "zerolinecolor": "white"
           },
           "yaxis": {
            "backgroundcolor": "#E5ECF6",
            "gridcolor": "white",
            "gridwidth": 2,
            "linecolor": "white",
            "showbackground": true,
            "ticks": "",
            "zerolinecolor": "white"
           },
           "zaxis": {
            "backgroundcolor": "#E5ECF6",
            "gridcolor": "white",
            "gridwidth": 2,
            "linecolor": "white",
            "showbackground": true,
            "ticks": "",
            "zerolinecolor": "white"
           }
          },
          "shapedefaults": {
           "line": {
            "color": "#2a3f5f"
           }
          },
          "ternary": {
           "aaxis": {
            "gridcolor": "white",
            "linecolor": "white",
            "ticks": ""
           },
           "baxis": {
            "gridcolor": "white",
            "linecolor": "white",
            "ticks": ""
           },
           "bgcolor": "#E5ECF6",
           "caxis": {
            "gridcolor": "white",
            "linecolor": "white",
            "ticks": ""
           }
          },
          "title": {
           "x": 0.05
          },
          "xaxis": {
           "automargin": true,
           "gridcolor": "white",
           "linecolor": "white",
           "ticks": "",
           "title": {
            "standoff": 15
           },
           "zerolinecolor": "white",
           "zerolinewidth": 2
          },
          "yaxis": {
           "automargin": true,
           "gridcolor": "white",
           "linecolor": "white",
           "ticks": "",
           "title": {
            "standoff": 15
           },
           "zerolinecolor": "white",
           "zerolinewidth": 2
          }
         }
        },
        "title": {
         "text": "Character Birthdates Timeline"
        },
        "xaxis": {
         "anchor": "y",
         "domain": [
          0,
          1
         ],
         "title": {
          "text": "Year"
         }
        },
        "yaxis": {
         "anchor": "x",
         "domain": [
          0,
          1
         ],
         "showticklabels": false,
         "title": {
          "text": ""
         }
        }
       }
      }
     },
     "metadata": {},
     "output_type": "display_data"
    },
    {
     "data": {
      "text/plain": [
       "<Figure size 640x480 with 0 Axes>"
      ]
     },
     "metadata": {},
     "output_type": "display_data"
    }
   ],
   "source": [
    "import pandas as pd\n",
    "import plotly.express as px\n",
    "\n",
    "def parse_birthdate(birthdate_str):\n",
    "    try:\n",
    "        return pd.to_datetime(birthdate_str, errors='coerce', format='%B %Y')\n",
    "    except Exception as e:\n",
    "        return pd.NaT\n",
    "\n",
    "characters_df['birthdate'] = characters_df['birthdate'].apply(parse_birthdate)\n",
    "characters_df_cleaned = characters_df.dropna(subset=['birthdate'])\n",
    "\n",
    "# Add a constant y-value to align all points on one line\n",
    "characters_df_cleaned['y'] = 0\n",
    "\n",
    "# Create the plot\n",
    "fig = px.scatter(\n",
    "    characters_df_cleaned,\n",
    "    x='birthdate',\n",
    "    y='y',\n",
    "    hover_name='name',\n",
    "    title='Character Birthdates Timeline',\n",
    "    labels={'y': ''},\n",
    ")\n",
    "\n",
    "# Update layout to remove y-axis ticks and labels\n",
    "fig.update_layout(\n",
    "    yaxis=dict(showticklabels=False),\n",
    "    xaxis_title='Year',\n",
    "    hovermode='closest',\n",
    "    height=400\n",
    ")\n",
    "\n",
    "# Show plot\n",
    "fig.show()\n",
    "\n"
   ]
  }
 ],
 "metadata": {
  "kernelspec": {
   "display_name": "PythonData",
   "language": "python",
   "name": "python3"
  },
  "language_info": {
   "codemirror_mode": {
    "name": "ipython",
    "version": 3
   },
   "file_extension": ".py",
   "mimetype": "text/x-python",
   "name": "python",
   "nbconvert_exporter": "python",
   "pygments_lexer": "ipython3",
   "version": "3.10.16"
  }
 },
 "nbformat": 4,
 "nbformat_minor": 2
}
